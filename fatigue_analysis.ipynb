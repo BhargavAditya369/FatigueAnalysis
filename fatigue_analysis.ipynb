{
 "cells": [
  {
   "cell_type": "code",
   "execution_count": null,
   "metadata": {
    "vscode": {
     "languageId": "plaintext"
    }
   },
   "outputs": [],
   "source": [
    "import pandas as pd\n",
    "import numpy as np\n",
    "from sklearn.model_selection import train_test_split\n",
    "from sklearn.preprocessing import MinMaxScaler\n",
    "from keras.models import Sequential\n",
    "from keras.layers import Conv1D, LSTM, Dense, Dropout\n",
    "from keras.optimizers import Adam\n",
    "from sklearn.metrics import mean_squared_error"
   ]
  },
  {
   "cell_type": "code",
   "execution_count": null,
   "metadata": {
    "vscode": {
     "languageId": "plaintext"
    }
   },
   "outputs": [],
   "source": [
    "# Load data\n",
    "data = pd.read_csv('Data.csv')\n",
    "# Select features and target\n",
    "X = data.iloc[:, :5].values\n",
    "y = data.iloc[:, 6].values\n",
    "# Normalize input features\n",
    "scaler = MinMaxScaler()\n",
    "X = scaler.fit_transform(X)\n",
    "# Reshape data for Conv1D input (samples, time steps, features)\n",
    "X = np.reshape(X, (X.shape[0], X.shape[1], 1))\n",
    "# Split the dataset into training set and test set\n",
    "X_train, X_test, y_train, y_test = train_test_split(X, y, test_size=0.2, random_state=0)\n",
    "# Build a simpler neural network with Conv1D and LSTM layers\n",
    "model = Sequential()\n",
    "model.add(Conv1D(32, kernel_size=3, activation='relu', input_shape=(X_train.shape[1], 1)))\n",
    "model.add(LSTM(64, activation='relu'))\n",
    "model.add(Dropout(0.3))\n",
    "model.add(Dense(1))\n"
   ]
  },
  {
   "cell_type": "code",
   "execution_count": null,
   "metadata": {
    "vscode": {
     "languageId": "plaintext"
    }
   },
   "outputs": [],
   "source": [
    "# Load data\n",
    "data = pd.read_csv('Data.csv')\n",
    "# Select features and target\n",
    "X = data.iloc[:, :5].values\n",
    "y = data.iloc[:, 6].values\n",
    "# Normalize input features\n",
    "scaler = MinMaxScaler()\n",
    "X = scaler.fit_transform(X)\n",
    "# Reshape data for Conv1D input (samples, time steps, features)\n",
    "X = np.reshape(X, (X.shape[0], X.shape[1], 1))\n",
    "# Split the dataset into training set and test set\n",
    "X_train, X_test, y_train, y_test = train_test_split(X, y, test_size=0.2, random_state=0)\n",
    "# Build a simpler neural network with Conv1D and LSTM layers\n",
    "model = Sequential()\n",
    "model.add(Conv1D(32, kernel_size=3, activation='relu', input_shape=(X_train.shape[1], 1)))\n",
    "model.add(LSTM(64, activation='relu'))\n",
    "model.add(Dropout(0.3))\n",
    "model.add(Dense(1))\n"
   ]
  }
 ],
 "metadata": {
  "language_info": {
   "name": "python"
  }
 },
 "nbformat": 4,
 "nbformat_minor": 2
}
